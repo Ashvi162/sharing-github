{
  "metadata": {
    "language_info": {
      "codemirror_mode": {
        "name": "python",
        "version": 3
      },
      "file_extension": ".py",
      "mimetype": "text/x-python",
      "name": "python",
      "nbconvert_exporter": "python",
      "pygments_lexer": "ipython3",
      "version": "3.8"
    },
    "kernelspec": {
      "name": "python",
      "display_name": "Python (Pyodide)",
      "language": "python"
    }
  },
  "nbformat_minor": 4,
  "nbformat": 4,
  "cells": [
    {
      "cell_type": "markdown",
      "source": "<H1>DATA SCIENCE ECOSYSTEM</H1>",
      "metadata": {}
    },
    {
      "cell_type": "markdown",
      "source": "In this notebook, Data Science Tools and Ecosystem are summarized",
      "metadata": {}
    },
    {
      "cell_type": "markdown",
      "source": "Some of the popular languages that Data Scientists use are:",
      "metadata": {}
    },
    {
      "cell_type": "markdown",
      "source": "1. R\n2. Python\n3. Java\n4. SQL\n5. JULIA",
      "metadata": {}
    },
    {
      "cell_type": "markdown",
      "source": "Some of the popular libraries that Data Scientists use are:\n",
      "metadata": {}
    },
    {
      "cell_type": "markdown",
      "source": "1. MATLAB\n2. NumPY\n3. scikit-learn\n4. TenserFlow\n5. PyTorch",
      "metadata": {}
    },
    {
      "cell_type": "markdown",
      "source": "| DATA SCIENCE TOOLS|\n|-------------------|\n| Apache Spark      |\n| MATLAB            |\n| SAS               |\n| Jupyter Notebook  |\n| Keras             |",
      "metadata": {}
    },
    {
      "cell_type": "markdown",
      "source": "Below are a few examples of evaluating arithmetic expressions in Python:",
      "metadata": {}
    },
    {
      "cell_type": "code",
      "source": "2+2",
      "metadata": {
        "trusted": true
      },
      "execution_count": 4,
      "outputs": [
        {
          "execution_count": 4,
          "output_type": "execute_result",
          "data": {
            "text/plain": "4"
          },
          "metadata": {}
        }
      ]
    },
    {
      "cell_type": "code",
      "source": "#This a simple arithmetic expression to mutiply then add integers",
      "metadata": {
        "trusted": true
      },
      "execution_count": 5,
      "outputs": []
    },
    {
      "cell_type": "code",
      "source": "(3*4)+5",
      "metadata": {
        "trusted": true
      },
      "execution_count": 6,
      "outputs": [
        {
          "execution_count": 6,
          "output_type": "execute_result",
          "data": {
            "text/plain": "17"
          },
          "metadata": {}
        }
      ]
    },
    {
      "cell_type": "markdown",
      "source": "***Objectives:***",
      "metadata": {}
    },
    {
      "cell_type": "markdown",
      "source": "-Python",
      "metadata": {}
    },
    {
      "cell_type": "markdown",
      "source": "-PHP",
      "metadata": {}
    },
    {
      "cell_type": "markdown",
      "source": "-Ruby",
      "metadata": {}
    },
    {
      "cell_type": "markdown",
      "source": "-SQL",
      "metadata": {}
    },
    {
      "cell_type": "markdown",
      "source": "-C++",
      "metadata": {}
    },
    {
      "cell_type": "markdown",
      "source": "-NumPY",
      "metadata": {}
    },
    {
      "cell_type": "markdown",
      "source": "-Perl",
      "metadata": {}
    },
    {
      "cell_type": "markdown",
      "source": "-Java",
      "metadata": {}
    },
    {
      "cell_type": "markdown",
      "source": "<h2>AUTHOR</H2>",
      "metadata": {}
    },
    {
      "cell_type": "markdown",
      "source": "ASHVI CHAUDHARY",
      "metadata": {}
    }
  ]
}